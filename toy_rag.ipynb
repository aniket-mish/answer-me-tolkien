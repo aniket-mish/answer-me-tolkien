{
  "nbformat": 4,
  "nbformat_minor": 0,
  "metadata": {
    "colab": {
      "provenance": []
    },
    "kernelspec": {
      "name": "python3",
      "display_name": "Python 3"
    },
    "language_info": {
      "name": "python"
    }
  },
  "cells": [
    {
      "cell_type": "markdown",
      "source": [
        "## Install required packages"
      ],
      "metadata": {
        "id": "ioEHP_syk1lj"
      }
    },
    {
      "cell_type": "code",
      "source": [
        "!pip install langchain langchain_chroma langchain_community sentence-transformers langchain_cohere unstructured langchain_huggingface -q"
      ],
      "metadata": {
        "id": "fkav8cFuuMwM"
      },
      "execution_count": 21,
      "outputs": []
    },
    {
      "cell_type": "markdown",
      "source": [
        "## Import necessary packages"
      ],
      "metadata": {
        "id": "uxr4TT4tkv1i"
      }
    },
    {
      "cell_type": "code",
      "source": [
        "import os\n",
        "import shutil\n",
        "import warnings\n",
        "warnings.filterwarnings('ignore')\n",
        "\n",
        "# langchain utilities\n",
        "from langchain.document_loaders import DirectoryLoader\n",
        "from langchain.text_splitter import RecursiveCharacterTextSplitter\n",
        "from langchain.evaluation import load_evaluator\n",
        "from langchain_core.prompts import PromptTemplate\n",
        "\n",
        "# embedding models\n",
        "from langchain_cohere import CohereEmbeddings\n",
        "from langchain_huggingface import HuggingFaceEmbeddings\n",
        "\n",
        "# vector store\n",
        "from langchain_chroma import Chroma\n",
        "\n",
        "# chat models\n",
        "from langchain_cohere import ChatCohere\n",
        "\n",
        "# api key from secrets\n",
        "from google.colab import userdata\n",
        "os.environ[\"COHERE_API_KEY\"] = userdata.get('COHERE_API_KEY')"
      ],
      "metadata": {
        "id": "7ochMhtK4afI"
      },
      "execution_count": 22,
      "outputs": []
    },
    {
      "cell_type": "markdown",
      "source": [
        "## Load data from source into documents"
      ],
      "metadata": {
        "id": "jD2VOj8qlqUO"
      }
    },
    {
      "cell_type": "code",
      "source": [
        "# load data from the source\n",
        "def load_docs(directory):\n",
        "    loader = DirectoryLoader(directory, glob=\"*.txt\")\n",
        "    docs = loader.load()\n",
        "    return docs\n",
        "\n",
        "documents = load_docs(\"_data\")\n",
        "\n",
        "len(documents)"
      ],
      "metadata": {
        "colab": {
          "base_uri": "https://localhost:8080/"
        },
        "id": "MqIapg5duO6F",
        "outputId": "aadd2f79-6260-4b88-ad84-7bc340819504"
      },
      "execution_count": 62,
      "outputs": [
        {
          "output_type": "execute_result",
          "data": {
            "text/plain": [
              "1"
            ]
          },
          "metadata": {},
          "execution_count": 62
        }
      ]
    },
    {
      "cell_type": "code",
      "source": [
        "# split the documents furthur down to chunks\n",
        "def split_docs(documents):\n",
        "    text_splitter = RecursiveCharacterTextSplitter(\n",
        "        chunk_size = 1000,\n",
        "        chunk_overlap = 50,\n",
        "        length_function = len,\n",
        "        add_start_index = True\n",
        "    )\n",
        "\n",
        "    chunks = text_splitter.split_documents(documents)\n",
        "\n",
        "    for chunk in chunks:\n",
        "        chunk_id = chunk.metadata[\"start_index\"]\n",
        "        chunk.metadata[\"id\"] = f\"{chunk.metadata['source']}_{chunk_id}\"\n",
        "\n",
        "    return chunks\n",
        "\n",
        "chunks = split_docs(documents)\n",
        "\n",
        "len(chunks)"
      ],
      "metadata": {
        "colab": {
          "base_uri": "https://localhost:8080/"
        },
        "id": "MkoC6aGkuyDO",
        "outputId": "b0e6622d-569b-4997-edc0-2ef4ebdc6c1b"
      },
      "execution_count": 63,
      "outputs": [
        {
          "output_type": "execute_result",
          "data": {
            "text/plain": [
              "1128"
            ]
          },
          "metadata": {},
          "execution_count": 63
        }
      ]
    },
    {
      "cell_type": "code",
      "source": [
        "doc = chunks[1]\n",
        "print(doc.page_content)\n",
        "print(doc.metadata)"
      ],
      "metadata": {
        "colab": {
          "base_uri": "https://localhost:8080/"
        },
        "id": "Z0stmrDovnKj",
        "outputId": "43d52d80-74b0-4b43-8d69-f2451490e261"
      },
      "execution_count": 64,
      "outputs": [
        {
          "output_type": "stream",
          "name": "stdout",
          "text": [
            "the air, descending slowly in wide circles down towards the earth. Even as he gazed his quick ears caught sounds in the woodlands below, on the west side of the River. He stiffened. There were cries, and among them, to his horror, he could distinguish the harsh voices of Orcs. Then suddenly with a deep-throated call a great horn blew, and the blasts of it smote the hills and echoed in the hollows, rising in a mighty shout above the roaring of the falls. \"The horn of Boromir!\" he cried. \"He is in need!\"\n",
            "{'source': '_data/tt.txt', 'start_index': 948, 'id': '_data/tt.txt_948'}\n"
          ]
        }
      ]
    },
    {
      "cell_type": "code",
      "source": [
        "DB_PATH = \"chroma\""
      ],
      "metadata": {
        "id": "uSfh0o64kevl"
      },
      "execution_count": 57,
      "outputs": []
    },
    {
      "cell_type": "code",
      "source": [
        "# clear out the database\n",
        "if os.path.exists(DB_PATH):\n",
        "    shutil.rmtree(DB_PATH)"
      ],
      "metadata": {
        "id": "lpKnSs2V2m6j"
      },
      "execution_count": 56,
      "outputs": []
    },
    {
      "cell_type": "markdown",
      "source": [
        "## Create embeddings"
      ],
      "metadata": {
        "id": "Kh-Xt8z-mD16"
      }
    },
    {
      "cell_type": "code",
      "source": [
        "embedding_function = CohereEmbeddings(model=\"embed-english-light-v3.0\")\n",
        "\n",
        "vector = embedding_function.embed_query(\"How are you?\")\n",
        "\n",
        "print(f\"This is a {len(vector)} dimensional vector\")\n",
        "\n",
        "print(vector)"
      ],
      "metadata": {
        "colab": {
          "base_uri": "https://localhost:8080/"
        },
        "id": "Jil_Fime6miN",
        "outputId": "ff1f9cf5-50a0-4118-b7fe-37b63f0d7295"
      },
      "execution_count": null,
      "outputs": [
        {
          "output_type": "stream",
          "name": "stdout",
          "text": [
            "This is a 384 dimensional vector\n",
            "[0.04888916, -0.026947021, 0.02331543, 0.021408081, -0.08123779, -0.0016756058, 0.0769043, 0.05114746, -0.07409668, 0.024551392, -0.009246826, -0.03540039, 0.00680542, 0.009170532, -0.029037476, 0.0019798279, 0.105773926, -0.06890869, -0.2331543, -0.046203613, -0.13098145, 0.00623703, 0.010093689, -0.02949524, 0.009902954, 0.019424438, -0.030380249, -0.0036945343, -0.0048942566, -0.04550171, -0.028015137, -0.052124023, -0.021972656, 0.022262573, 0.0047569275, -0.036895752, 0.004760742, 0.016601562, -0.006450653, -0.04373169, 0.02381897, -0.029815674, 0.014007568, -0.062042236, -0.039978027, 0.015617371, 0.010765076, 0.013801575, -0.012413025, -0.029022217, -0.08868408, -0.012649536, 0.032165527, 0.051361084, 0.03677368, 0.111816406, 0.06100464, 0.07122803, 0.022476196, 0.05706787, -0.061340332, 0.01852417, -0.07861328, 0.05722046, 0.031082153, 0.048706055, -0.060333252, 0.0070991516, -0.05090332, -0.07104492, -0.06951904, -0.021972656, 0.08215332, 0.026748657, 0.033111572, -0.005645752, -0.005176544, -0.024414062, 0.08508301, 0.0070228577, 0.023925781, 0.0040512085, -0.01687622, -0.031463623, -0.03363037, 0.01838684, -0.046295166, 0.029754639, 0.0071792603, 0.012252808, -0.065979004, 0.10827637, -0.031677246, 0.001115799, 0.08605957, -0.029190063, 0.05883789, -0.00082063675, -0.014137268, 0.079956055, -0.0024166107, 0.034454346, 0.12988281, -0.038085938, -0.049102783, -0.041168213, 0.03048706, 0.0803833, 0.007949829, -0.01008606, -0.012207031, -0.04296875, 0.036193848, 0.014846802, 0.064331055, 0.040924072, -0.03857422, 0.036499023, -0.1026001, 0.00042128563, 0.06982422, -0.005634308, 0.052001953, -0.018920898, 0.08074951, 0.066223145, 0.17138672, -0.0047721863, 0.08709717, 0.04953003, 0.077819824, 0.04034424, -0.04321289, -0.026535034, -0.0035362244, -0.07305908, -0.0541687, 0.0151901245, 0.037902832, 0.027252197, -0.022216797, 0.026748657, -0.01260376, -0.06591797, -0.08514404, -0.023605347, -0.11871338, 0.10107422, -0.018951416, 0.045562744, -0.025650024, 0.03503418, 0.042266846, -0.062683105, 0.007247925, -0.097717285, 0.021392822, -0.07763672, -0.04800415, 0.010658264, 0.039611816, 0.020645142, -0.0113220215, -0.10412598, 0.08734131, 0.060699463, -0.014892578, -0.009521484, 0.033050537, 3.1411648e-05, 0.03111267, -0.021850586, 0.05404663, 0.070617676, 0.024261475, 0.013404846, -0.009292603, 0.002696991, 0.033935547, -0.02949524, 0.015113831, -0.0011100769, -0.11254883, -0.050720215, 0.012664795, 0.046722412, -0.013847351, 0.034362793, 0.04598999, -0.028198242, 0.036346436, -0.07446289, -0.06762695, -0.022476196, 0.0050849915, 0.00573349, 0.02609253, -0.030731201, -0.072143555, 0.024047852, 0.12023926, 0.021484375, 0.0871582, -0.010345459, 0.01586914, 0.058746338, -0.06970215, -0.007904053, -0.011672974, 0.04046631, -0.030944824, -0.0065231323, 0.04458618, -0.015640259, -0.014175415, 0.010597229, 0.0546875, 0.011405945, 0.018005371, -0.0259552, 0.014892578, -0.060760498, -0.045715332, -0.08514404, -0.025497437, 0.011459351, -0.021484375, -0.026275635, -0.01348114, -0.013381958, 0.014434814, 0.089904785, 0.032348633, -0.019210815, -0.026016235, -0.046966553, -0.009407043, 0.036834717, 0.042297363, 0.12402344, -0.13781738, 0.008712769, 0.024246216, 0.015487671, -0.064331055, 0.05130005, -0.020309448, -0.047729492, -0.06121826, 0.034576416, 0.0146484375, -0.06732178, -0.06549072, -0.006816864, 0.0001860857, -0.013793945, -0.052612305, 0.09613037, -0.008132935, 0.035308838, -0.11236572, -0.14587402, 0.034576416, 0.04534912, -0.026245117, 0.052246094, -0.08251953, -0.012428284, 0.022583008, -0.046203613, -0.05343628, -0.02822876, -0.011482239, -0.008720398, -0.03475952, -0.048614502, -0.0035057068, -0.042144775, 0.026535034, -0.036224365, -0.053527832, -0.015640259, -0.034729004, -0.046936035, -0.020004272, 0.00016188622, -0.023605347, -0.01676941, 0.05606079, -0.008415222, -0.008766174, -0.08258057, -0.027908325, 0.035369873, -0.023162842, -0.035461426, 0.10070801, -0.0010232925, 0.056030273, -0.013061523, -0.017562866, -0.032226562, -0.05331421, -0.010848999, -0.0362854, 0.09069824, 0.041656494, 0.046936035, -0.08703613, 0.015159607, 0.04776001, 0.027694702, -0.05218506, 0.031402588, -0.06262207, 0.008605957, -0.05050659, -0.034851074, 0.012573242, -0.068603516, -0.01637268, 0.074401855, -0.0015439987, 0.050720215, 0.034423828, 0.105041504, 0.08325195, 0.014953613, 0.024169922, -0.1282959, -0.024139404, -0.018463135, -0.035308838, -0.048858643, -0.046295166, 0.012184143, -0.072509766, 0.0597229, 0.008354187, 0.12420654, 0.005115509, 0.020431519, -0.003967285, 0.017120361, 0.010284424, 0.03152466, 0.049865723, -0.05307007, 0.020690918, -0.0102005005, -0.030532837, 0.07757568, 0.06774902, 0.03665161, 0.07836914, -0.09527588, 0.05569458, 0.010154724, 0.018615723, 0.034851074, 0.030853271, 0.06970215, 0.0020332336, -0.04849243, -0.052764893, -0.009063721, 0.059387207, 0.043182373, -0.018798828, -0.05871582, 0.0637207, 0.01890564, 0.032562256, 0.0143585205, -0.033416748, -0.01512146, -0.05050659, 0.05419922, -0.040405273, 0.029434204, -0.04473877, 0.048339844, -0.10412598, -0.0045166016]\n"
          ]
        }
      ]
    },
    {
      "cell_type": "markdown",
      "source": [
        "## Save the embeddings into the vector database"
      ],
      "metadata": {
        "id": "gdQMZs5dmITe"
      }
    },
    {
      "cell_type": "code",
      "source": [
        "def save_to_database(chunks):\n",
        "    \"\"\"\n",
        "    convert chunks to embeddings and store them in the chroma db\n",
        "    \"\"\"\n",
        "\n",
        "    # create the embedding function\n",
        "    embedding_function = CohereEmbeddings(model=\"embed-english-light-v3.0\")\n",
        "\n",
        "    # load it into chroma\n",
        "    db = Chroma.from_documents(chunks, embedding_function, persist_directory=DB_PATH)\n",
        "\n",
        "    print(f\"{len(chunks)} chunks are now stored in chroma at {DB_PATH}.\")\n",
        "\n",
        "save_to_database(chunks)"
      ],
      "metadata": {
        "colab": {
          "base_uri": "https://localhost:8080/"
        },
        "id": "azp2AckHkW_K",
        "outputId": "82a2c600-ef17-40f0-aeb0-60ab7b572a96"
      },
      "execution_count": 61,
      "outputs": [
        {
          "output_type": "stream",
          "name": "stdout",
          "text": [
            "2286 chunks are now stored in chroma at chroma.\n"
          ]
        }
      ]
    },
    {
      "cell_type": "markdown",
      "source": [
        "## Update the database with new embeddings"
      ],
      "metadata": {
        "id": "I1RmasCmkrzW"
      }
    },
    {
      "cell_type": "code",
      "source": [
        "# saves as a sqlite3 file\n",
        "def save_to_chroma(chunks):\n",
        "\n",
        "    # create the open-source embedding function\n",
        "    embedding_function = CohereEmbeddings(model=\"embed-english-light-v3.0\")\n",
        "\n",
        "    # load it into Chroma\n",
        "    db = Chroma(embedding_function=embedding_function, persist_directory=DB_PATH)\n",
        "\n",
        "    # check for existing documents\n",
        "    existing_items = db.get(include=[])\n",
        "    existing_ids = set(existing_items[\"ids\"])\n",
        "    print(f\"Number of existing documents in the db: {len(existing_ids)}\")\n",
        "\n",
        "    # get new documents\n",
        "    new_chunks = []\n",
        "    for chunk in chunks:\n",
        "        if chunk.metadata[\"id\"] not in existing_ids:\n",
        "            new_chunks.append(chunk)\n",
        "\n",
        "    # get new document ids\n",
        "    new_chunk_ids = []\n",
        "    for chunk in new_chunks:\n",
        "        new_chunk_ids.append(chunk.metadata[\"id\"])\n",
        "\n",
        "    # update the db with new documents\n",
        "    print(f\"Number of new documents to add in the db: {len(new_chunks)}\")\n",
        "    db.add_documents(new_chunks, ids=new_chunk_ids)\n",
        "\n",
        "    print(f\"{len(chunks)} chunks are now stored in chroma\")\n",
        "\n",
        "save_to_chroma(chunks)"
      ],
      "metadata": {
        "colab": {
          "base_uri": "https://localhost:8080/"
        },
        "id": "l3N6DnKnyNq2",
        "outputId": "cdf5e8da-5e45-4bf9-af4b-1637b3a41bbc"
      },
      "execution_count": 65,
      "outputs": [
        {
          "output_type": "stream",
          "name": "stdout",
          "text": [
            "Number of existing documents in the db: 2286\n",
            "Number of new documents to add in the db: 1128\n",
            "1128 chunks are now stored in chroma\n"
          ]
        }
      ]
    },
    {
      "cell_type": "markdown",
      "source": [
        "## Use langchain's evaluator to compare embeddings"
      ],
      "metadata": {
        "id": "nxaWBB_vmOlM"
      }
    },
    {
      "cell_type": "code",
      "source": [
        "embedding_model = HuggingFaceEmbeddings()\n",
        "\n",
        "# this constructor uses OpenAI embeddings by default\n",
        "hf_evaluator = load_evaluator(\"embedding_distance\", embeddings=embedding_model)\n",
        "\n",
        "hf_evaluator.evaluate_strings(prediction=\"argentina\", reference=\"messi\")"
      ],
      "metadata": {
        "colab": {
          "base_uri": "https://localhost:8080/"
        },
        "id": "GUdKp5iY0dY5",
        "outputId": "a1a90a0f-ee8d-45ec-a8cb-3446698face1"
      },
      "execution_count": null,
      "outputs": [
        {
          "output_type": "execute_result",
          "data": {
            "text/plain": [
              "{'score': 0.6373337369763273}"
            ]
          },
          "metadata": {},
          "execution_count": 14
        }
      ]
    },
    {
      "cell_type": "markdown",
      "source": [
        "## Query the database and get the context"
      ],
      "metadata": {
        "id": "gFDzRvDumWpH"
      }
    },
    {
      "cell_type": "code",
      "source": [
        "# search the db\n",
        "def query_chroma(query):\n",
        "\n",
        "    embedding_function = CohereEmbeddings(model=\"embed-english-light-v3.0\")\n",
        "    db = Chroma(persist_directory=\"chroma_vs\", embedding_function=embedding_function)\n",
        "    docs = db.similarity_search_with_relevance_scores(query, k=2)\n",
        "\n",
        "    print(docs)\n",
        "\n",
        "    if len(docs) == 0 or docs[0][1] < 0.10:\n",
        "        raise ValueError(\"No matching documents found.\")\n",
        "\n",
        "    context = \"\\n\\n----\\n\\n\".join([doc.page_content for doc, score in docs])\n",
        "    print(context)\n",
        "\n",
        "    return context\n",
        "\n",
        "# query the db\n",
        "query = \"who is the king of gandor?\"\n",
        "context = query_chroma(query)\n",
        "\n",
        "context"
      ],
      "metadata": {
        "colab": {
          "base_uri": "https://localhost:8080/",
          "height": 293
        },
        "id": "veVFbrtf-Vzm",
        "outputId": "aea8c977-ff12-428d-8e67-2673c54e9f8e"
      },
      "execution_count": null,
      "outputs": [
        {
          "output_type": "stream",
          "name": "stdout",
          "text": [
            "[(Document(metadata={'source': 'data/rotk.txt', 'start_index': 515665}, page_content='now he awaits you. You shall eat and drink with him. When you are ready I will lead you to him.\" \"The King?\" said Sam. \"What king, and who is he?\" \"The King of Gondor and Lord of the Western Lands,\" said Gandalf \"and he has taken back all his ancient realm. He will ride soon to his crowning, but he waits for you.\" \"What shall we wear?\" said Sam; for all he could see was the old and tattered clothes that they had journeyed in, lying folded on the ground beside their beds. \"The clothes that you wore on your way to Mordor,\" said Gandalf.'), 0.2246058833317378), (Document(metadata={'source': 'data/rotk.txt', 'start_index': 17199}, page_content='a paved passage, long and empty, and as they went Gandalf spoke softly to Pippin. \"Be careful of your words, Master Peregrin! This is no time for hobbit pertness. Théoden is a kindly old man. Denethor is of another sort, proud and subtle, a man of far greater lineage and power, though he is not called a king. But he will speak most to you, and question you much, since you can tell him of his son Boromir. He loved him greatly: too much perhaps; and the more so because they were unlike.'), 0.15196317681860427)]\n",
            "now he awaits you. You shall eat and drink with him. When you are ready I will lead you to him.\" \"The King?\" said Sam. \"What king, and who is he?\" \"The King of Gondor and Lord of the Western Lands,\" said Gandalf \"and he has taken back all his ancient realm. He will ride soon to his crowning, but he waits for you.\" \"What shall we wear?\" said Sam; for all he could see was the old and tattered clothes that they had journeyed in, lying folded on the ground beside their beds. \"The clothes that you wore on your way to Mordor,\" said Gandalf.\n",
            "\n",
            "----\n",
            "\n",
            "a paved passage, long and empty, and as they went Gandalf spoke softly to Pippin. \"Be careful of your words, Master Peregrin! This is no time for hobbit pertness. Théoden is a kindly old man. Denethor is of another sort, proud and subtle, a man of far greater lineage and power, though he is not called a king. But he will speak most to you, and question you much, since you can tell him of his son Boromir. He loved him greatly: too much perhaps; and the more so because they were unlike.\n"
          ]
        },
        {
          "output_type": "execute_result",
          "data": {
            "text/plain": [
              "'now he awaits you. You shall eat and drink with him. When you are ready I will lead you to him.\" \"The King?\" said Sam. \"What king, and who is he?\" \"The King of Gondor and Lord of the Western Lands,\" said Gandalf \"and he has taken back all his ancient realm. He will ride soon to his crowning, but he waits for you.\" \"What shall we wear?\" said Sam; for all he could see was the old and tattered clothes that they had journeyed in, lying folded on the ground beside their beds. \"The clothes that you wore on your way to Mordor,\" said Gandalf.\\n\\n----\\n\\na paved passage, long and empty, and as they went Gandalf spoke softly to Pippin. \"Be careful of your words, Master Peregrin! This is no time for hobbit pertness. Théoden is a kindly old man. Denethor is of another sort, proud and subtle, a man of far greater lineage and power, though he is not called a king. But he will speak most to you, and question you much, since you can tell him of his son Boromir. He loved him greatly: too much perhaps; and the more so because they were unlike.'"
            ],
            "application/vnd.google.colaboratory.intrinsic+json": {
              "type": "string"
            }
          },
          "metadata": {},
          "execution_count": 117
        }
      ]
    },
    {
      "cell_type": "code",
      "source": [
        "embedding_function = CohereEmbeddings(model=\"embed-english-light-v3.0\")\n",
        "db = Chroma(persist_directory=\"chroma_vs\", embedding_function=embedding_function)\n",
        "docs = db.similarity_search_with_relevance_scores(query, k=1)\n",
        "\n",
        "docs[0][1]"
      ],
      "metadata": {
        "colab": {
          "base_uri": "https://localhost:8080/"
        },
        "id": "z9Uz1QztDqD_",
        "outputId": "b4849d0c-6ea5-4464-d778-9d073428f000"
      },
      "execution_count": null,
      "outputs": [
        {
          "output_type": "execute_result",
          "data": {
            "text/plain": [
              "0.2246058833317378"
            ]
          },
          "metadata": {},
          "execution_count": 118
        }
      ]
    },
    {
      "cell_type": "code",
      "source": [
        "docs[0][0].metadata"
      ],
      "metadata": {
        "colab": {
          "base_uri": "https://localhost:8080/"
        },
        "id": "PeH0nYVoHhWx",
        "outputId": "de4bf5dd-ffaf-45dd-827f-8f07846c6ae5"
      },
      "execution_count": null,
      "outputs": [
        {
          "output_type": "execute_result",
          "data": {
            "text/plain": [
              "{'source': 'data/rotk.txt', 'start_index': 515665}"
            ]
          },
          "metadata": {},
          "execution_count": 119
        }
      ]
    },
    {
      "cell_type": "code",
      "source": [
        "docs[0][0].page_content"
      ],
      "metadata": {
        "colab": {
          "base_uri": "https://localhost:8080/",
          "height": 103
        },
        "id": "8uFHDcRlJrR5",
        "outputId": "e0000573-382a-4a73-f066-f9fdb119af8a"
      },
      "execution_count": null,
      "outputs": [
        {
          "output_type": "execute_result",
          "data": {
            "text/plain": [
              "'now he awaits you. You shall eat and drink with him. When you are ready I will lead you to him.\" \"The King?\" said Sam. \"What king, and who is he?\" \"The King of Gondor and Lord of the Western Lands,\" said Gandalf \"and he has taken back all his ancient realm. He will ride soon to his crowning, but he waits for you.\" \"What shall we wear?\" said Sam; for all he could see was the old and tattered clothes that they had journeyed in, lying folded on the ground beside their beds. \"The clothes that you wore on your way to Mordor,\" said Gandalf.'"
            ],
            "application/vnd.google.colaboratory.intrinsic+json": {
              "type": "string"
            }
          },
          "metadata": {},
          "execution_count": 120
        }
      ]
    },
    {
      "cell_type": "markdown",
      "source": [
        "## Create a prompt"
      ],
      "metadata": {
        "id": "eNXW1o8Omgwx"
      }
    },
    {
      "cell_type": "code",
      "source": [
        "PROMPT_TEMPLATE = \"\"\"\n",
        "Answer the question based on the following context:\n",
        "\n",
        "{context}\n",
        "\n",
        "---\n",
        "\n",
        "The question is: {query}\n",
        "\"\"\""
      ],
      "metadata": {
        "id": "4IrcwlBOJvCK"
      },
      "execution_count": null,
      "outputs": []
    },
    {
      "cell_type": "code",
      "source": [
        "prompt_template = PromptTemplate.from_template(PROMPT_TEMPLATE)\n",
        "\n",
        "prompt = prompt_template.format(context=context, query=query)\n",
        "\n",
        "prompt"
      ],
      "metadata": {
        "colab": {
          "base_uri": "https://localhost:8080/",
          "height": 171
        },
        "id": "v07be-aBfWd7",
        "outputId": "aabdcd50-d428-42ba-9af1-07cde3437bc9"
      },
      "execution_count": null,
      "outputs": [
        {
          "output_type": "execute_result",
          "data": {
            "text/plain": [
              "'\\nAnswer the question based on the following context:\\n\\nnow he awaits you. You shall eat and drink with him. When you are ready I will lead you to him.\" \"The King?\" said Sam. \"What king, and who is he?\" \"The King of Gondor and Lord of the Western Lands,\" said Gandalf \"and he has taken back all his ancient realm. He will ride soon to his crowning, but he waits for you.\" \"What shall we wear?\" said Sam; for all he could see was the old and tattered clothes that they had journeyed in, lying folded on the ground beside their beds. \"The clothes that you wore on your way to Mordor,\" said Gandalf.\\n\\n----\\n\\na paved passage, long and empty, and as they went Gandalf spoke softly to Pippin. \"Be careful of your words, Master Peregrin! This is no time for hobbit pertness. Théoden is a kindly old man. Denethor is of another sort, proud and subtle, a man of far greater lineage and power, though he is not called a king. But he will speak most to you, and question you much, since you can tell him of his son Boromir. He loved him greatly: too much perhaps; and the more so because they were unlike.\\n\\n---\\n\\nThe question is: who is the king of gandor?\\n'"
            ],
            "application/vnd.google.colaboratory.intrinsic+json": {
              "type": "string"
            }
          },
          "metadata": {},
          "execution_count": 122
        }
      ]
    },
    {
      "cell_type": "markdown",
      "source": [
        "## Use a chat model like cohere and pass in the prompt"
      ],
      "metadata": {
        "id": "rnmuBphMmlfP"
      }
    },
    {
      "cell_type": "code",
      "source": [
        "# chat model\n",
        "cohere_chat_model = ChatCohere()"
      ],
      "metadata": {
        "id": "D_xsV6Ed638h"
      },
      "execution_count": null,
      "outputs": []
    },
    {
      "cell_type": "code",
      "source": [
        "ai_msg = cohere_chat_model.invoke(prompt)"
      ],
      "metadata": {
        "id": "o0YJ_fJf7ALS"
      },
      "execution_count": null,
      "outputs": []
    },
    {
      "cell_type": "code",
      "source": [
        "ai_msg.content"
      ],
      "metadata": {
        "colab": {
          "base_uri": "https://localhost:8080/",
          "height": 103
        },
        "id": "BBt1NwrD7tIx",
        "outputId": "c26840c2-478a-43d5-d932-20f9470be409"
      },
      "execution_count": null,
      "outputs": [
        {
          "output_type": "execute_result",
          "data": {
            "text/plain": [
              "'The King of Gondor is mentioned in the provided text as \"The King of Gondor and Lord of the Western Lands.\" This title suggests that the king in question rules over the realm of Gondor and holds dominion over the Western Lands. \\n\\nLater in the text, it is also mentioned that this king is awaiting a character named Sam, indicating that the king might be someone familiar to Sam and the other characters in the conversation. However, the specific name or identity of the King of Gondor is not directly provided in the given context.'"
            ],
            "application/vnd.google.colaboratory.intrinsic+json": {
              "type": "string"
            }
          },
          "metadata": {},
          "execution_count": 125
        }
      ]
    },
    {
      "cell_type": "code",
      "source": [
        "ai_msg"
      ],
      "metadata": {
        "colab": {
          "base_uri": "https://localhost:8080/"
        },
        "id": "FxGyQSp4EXuT",
        "outputId": "2d7e031b-05af-4ddd-b7b3-404bfefbaf1b"
      },
      "execution_count": null,
      "outputs": [
        {
          "output_type": "execute_result",
          "data": {
            "text/plain": [
              "AIMessage(content='The King of Gondor is mentioned in the provided text as \"The King of Gondor and Lord of the Western Lands.\" This title suggests that the king in question rules over the realm of Gondor and holds dominion over the Western Lands. \\n\\nLater in the text, it is also mentioned that this king is awaiting a character named Sam, indicating that the king might be someone familiar to Sam and the other characters in the conversation. However, the specific name or identity of the King of Gondor is not directly provided in the given context.', additional_kwargs={'documents': None, 'citations': None, 'search_results': None, 'search_queries': None, 'is_search_required': None, 'generation_id': '99dfbdf7-eba5-45e6-ae2d-6f229c3b75d3', 'token_count': {'input_tokens': 352, 'output_tokens': 109}}, response_metadata={'documents': None, 'citations': None, 'search_results': None, 'search_queries': None, 'is_search_required': None, 'generation_id': '99dfbdf7-eba5-45e6-ae2d-6f229c3b75d3', 'token_count': {'input_tokens': 352, 'output_tokens': 109}}, id='run-ef62aa20-537c-427b-b731-792c7cf59853-0', usage_metadata={'input_tokens': 352, 'output_tokens': 109, 'total_tokens': 461})"
            ]
          },
          "metadata": {},
          "execution_count": 126
        }
      ]
    },
    {
      "cell_type": "code",
      "source": [],
      "metadata": {
        "id": "XcVJ_HWxp2sR"
      },
      "execution_count": null,
      "outputs": []
    }
  ]
}